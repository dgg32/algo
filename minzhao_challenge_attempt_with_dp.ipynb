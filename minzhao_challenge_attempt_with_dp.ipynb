{
  "nbformat": 4,
  "nbformat_minor": 0,
  "metadata": {
    "colab": {
      "name": "Untitled2.ipynb",
      "provenance": [],
      "include_colab_link": true
    },
    "kernelspec": {
      "name": "python3",
      "display_name": "Python 3"
    }
  },
  "cells": [
    {
      "cell_type": "markdown",
      "metadata": {
        "id": "view-in-github",
        "colab_type": "text"
      },
      "source": [
        "<a href=\"https://colab.research.google.com/github/dgg32/algo/blob/master/minzhao_challenge_attempt_with_dp.ipynb\" target=\"_parent\"><img src=\"https://colab.research.google.com/assets/colab-badge.svg\" alt=\"Open In Colab\"/></a>"
      ]
    },
    {
      "cell_type": "code",
      "metadata": {
        "id": "HLU6LiUZnU97",
        "colab_type": "code",
        "colab": {}
      },
      "source": [
        "#####set_n num_cards {sub_result: set(card_combi)}\n",
        "\n",
        "import math\n",
        "\n",
        "\n",
        "set_1 = {}\n",
        "\n",
        "max_card = 13\n",
        "\n",
        "for card in range(1, max_card+1):\n",
        "    set_1[card] = set()\n",
        "    set_1[card].add((card,))\n",
        "    set_1[-card] = set()\n",
        "    set_1[-card].add((card,))\n",
        "\n"
      ],
      "execution_count": 0,
      "outputs": []
    },
    {
      "cell_type": "code",
      "metadata": {
        "id": "2g3ciZP4S0gE",
        "colab_type": "code",
        "colab": {
          "base_uri": "https://localhost:8080/",
          "height": 548
        },
        "outputId": "a52c7777-4186-439a-dfbe-995e33e9f566"
      },
      "source": [
        "set_1"
      ],
      "execution_count": 16,
      "outputs": [
        {
          "output_type": "execute_result",
          "data": {
            "text/plain": [
              "{-13: {(13,)},\n",
              " -12: {(12,)},\n",
              " -11: {(11,)},\n",
              " -10: {(10,)},\n",
              " -9: {(9,)},\n",
              " -8: {(8,)},\n",
              " -7: {(7,)},\n",
              " -6: {(6,)},\n",
              " -5: {(5,)},\n",
              " -4: {(4,)},\n",
              " -3: {(3,)},\n",
              " -2: {(2,)},\n",
              " -1: {(1,)},\n",
              " 1: {(1,)},\n",
              " 2: {(2,)},\n",
              " 3: {(3,)},\n",
              " 4: {(4,)},\n",
              " 5: {(5,)},\n",
              " 6: {(6,)},\n",
              " 7: {(7,)},\n",
              " 8: {(8,)},\n",
              " 9: {(9,)},\n",
              " 10: {(10,)},\n",
              " 11: {(11,)},\n",
              " 12: {(12,)},\n",
              " 13: {(13,)}}"
            ]
          },
          "metadata": {
            "tags": []
          },
          "execution_count": 16
        }
      ]
    },
    {
      "cell_type": "code",
      "metadata": {
        "id": "uZJ-ZqzdS1rv",
        "colab_type": "code",
        "colab": {}
      },
      "source": [
        "###construct set_2 based on set_1\n",
        "\n",
        "set_2 = {}\n",
        "\n",
        "for card in range(1, max_card+1): \n",
        "    for sub_result in set_1:\n",
        "        new_results = [card + sub_result, -card + sub_result, card * sub_result, -card * sub_result, sub_result/card, sub_result/-card]\n",
        "\n",
        "        if sub_result != 0:\n",
        "            new_results.append(card/sub_result)\n",
        "            new_results.append(-card/sub_result)\n",
        "\n",
        "        for new_result in new_results:\n",
        "            if new_result not in set_2:\n",
        "                set_2[new_result] = set()\n",
        "\n",
        "            for old_card in set_1[sub_result]:\n",
        "                #print ()\n",
        "\n",
        "                new_tuple = tuple(sorted(list(old_card + (card,))))\n",
        "\n",
        "                set_2[new_result].add(new_tuple)\n"
      ],
      "execution_count": 0,
      "outputs": []
    },
    {
      "cell_type": "code",
      "metadata": {
        "id": "vlj3XGWYU_D4",
        "colab_type": "code",
        "colab": {}
      },
      "source": [
        "## construct set_3 based on  set_2\n",
        "\n",
        "set_3 = {}\n",
        "\n",
        "for card in range(1, max_card+1): \n",
        "    for sub_result in set_2:\n",
        "        new_results = [card + sub_result, -card + sub_result, card * sub_result, -card * sub_result, sub_result/card, sub_result/-card]\n",
        "\n",
        "        if sub_result != 0:\n",
        "            new_results.append(card/sub_result)\n",
        "            new_results.append(-card/sub_result)\n",
        "\n",
        "        for new_result in new_results:\n",
        "            if new_result not in set_3:\n",
        "                set_3[new_result] = set()\n",
        "\n",
        "            for old_card in set_2[sub_result]:\n",
        "                #print ()\n",
        "\n",
        "                new_tuple = tuple(sorted(list(old_card + (card,))))\n",
        "\n",
        "                set_3[new_result].add(new_tuple)\n"
      ],
      "execution_count": 0,
      "outputs": []
    },
    {
      "cell_type": "code",
      "metadata": {
        "id": "6PFz5Lu2VseA",
        "colab_type": "code",
        "colab": {}
      },
      "source": [
        "#### to construct set_4, there are two ways: first based on set_3. Second based on set_2 with set_2\n",
        "\n",
        "#### Here only consider when the result is 24\n",
        "\n",
        "set_4 = {}\n",
        "\n",
        "\n",
        "target_sum = 24\n",
        "\n",
        "#### First, implement set_3-based\n",
        "\n",
        "for card in range(1, max_card+1): \n",
        "    for sub_result in set_3:\n",
        "        new_results = [card + sub_result, -card + sub_result, card * sub_result, -card * sub_result, sub_result/card, sub_result/-card]\n",
        "\n",
        "        if sub_result != 0:\n",
        "            new_results.append(card/sub_result)\n",
        "            new_results.append(-card/sub_result)\n",
        "\n",
        "        for new_result in new_results:\n",
        "            if math.isclose(new_result, target_sum, abs_tol=0.01):\n",
        "                if target_sum not in set_4:\n",
        "                    set_4[target_sum] = set()\n",
        "\n",
        "                for old_card in set_3[sub_result]:\n",
        "                    #print ()\n",
        "\n",
        "                    new_tuple = tuple(sorted(list(old_card + (card,))))\n",
        "\n",
        "                    set_4[target_sum].add(new_tuple)\n"
      ],
      "execution_count": 0,
      "outputs": []
    },
    {
      "cell_type": "code",
      "metadata": {
        "id": "rAn-R4tuWU44",
        "colab_type": "code",
        "colab": {}
      },
      "source": [
        "#### Second, implement set_2 set_2\n",
        "\n",
        "for sub_result in set_2:\n",
        "    for sub_result_2 in set_2:\n",
        "        new_results = [sub_result_2 + sub_result, -sub_result_2 + sub_result, sub_result_2 * sub_result, -sub_result_2 * sub_result]\n",
        "\n",
        "        if sub_result != 0:\n",
        "            new_results.append(card/sub_result)\n",
        "            new_results.append(-card/sub_result)\n",
        "\n",
        "        if sub_result_2 != 0:\n",
        "            new_results.append(sub_result/sub_result_2)\n",
        "            new_results.append(sub_result/sub_result_2)\n",
        "\n",
        "        for new_result in new_results:\n",
        "            if math.isclose(new_result, target_sum, abs_tol=0.01):\n",
        "                if target_sum not in set_4:\n",
        "                    set_4[target_sum] = set()\n",
        "\n",
        "                for old_card in set_3[sub_result]:\n",
        "                    #print ()\n",
        "\n",
        "                    new_tuple = tuple(sorted(list(old_card + (card,))))\n",
        "\n",
        "                    set_4[target_sum].add(new_tuple)"
      ],
      "execution_count": 0,
      "outputs": []
    },
    {
      "cell_type": "code",
      "metadata": {
        "id": "28-ERCWlWXXG",
        "colab_type": "code",
        "colab": {
          "base_uri": "https://localhost:8080/",
          "height": 37
        },
        "outputId": "5f040c8b-c7d7-4740-aff3-1612204fb652"
      },
      "source": [
        "len(set_4[24])"
      ],
      "execution_count": 26,
      "outputs": [
        {
          "output_type": "execute_result",
          "data": {
            "text/plain": [
              "1480"
            ]
          },
          "metadata": {
            "tags": []
          },
          "execution_count": 26
        }
      ]
    },
    {
      "cell_type": "code",
      "metadata": {
        "id": "uA1eEjK8ZQ8J",
        "colab_type": "code",
        "colab": {
          "base_uri": "https://localhost:8080/",
          "height": 37
        },
        "outputId": "891dc246-5c95-405b-b70a-d4ba40c4cb12"
      },
      "source": [
        "###previous attempt:\n",
        "\n",
        "operator_pair = {\"+\": \"-\", \"-\": \"+\", \"*\": \"/\", \"/\": \"*\"}\n",
        "import numexpr\n",
        "import math\n",
        "import copy\n",
        "\n",
        "\n",
        "\n",
        "##example forward [5, \"-\", 1, \"/\", 5, \"*\", 5]\n",
        "## reverse [5, \"*\", 5, \"/\", 1, \"-\", 5]\n",
        "\n",
        "def recurse(part_sum, sequence, temp_record):\n",
        "    if len(sequence) == 1:\n",
        "        if math.isclose(sequence[0], part_sum, abs_tol=0.00000000000001):\n",
        "            temp_record.append(\"+\")\n",
        "            return [True, temp_record]\n",
        "        elif math.isclose(sequence[0], -part_sum, abs_tol=0.00000000000001):\n",
        "            temp_record.append(\"-\")\n",
        "            return [True, temp_record]\n",
        "        else:\n",
        "            temp_record.append(\"+\")\n",
        "            return [False, temp_record]\n",
        "    else:\n",
        "        last_digit = sequence[-1]\n",
        "        temp = sequence[:-1]\n",
        "        make_it = False\n",
        "\n",
        "        successful_record = []\n",
        "\n",
        "        for operator in [\"+\", \"-\", \"*\", \"/\"]:\n",
        "            anti_operator = operator_pair[operator]\n",
        "\n",
        "            new_target = numexpr.evaluate(str(part_sum) + anti_operator + str(last_digit)).item()\n",
        "            \n",
        "            new_record = copy.deepcopy(temp_record)\n",
        "\n",
        "            new_record.append(operator)\n",
        "\n",
        "            #print ((new_target, temp, new_record))\n",
        "\n",
        "            [result, small_record] = recurse(new_target, temp, new_record)\n",
        "\n",
        "            if result == True:\n",
        "                make_it = True\n",
        "                successful_record = small_record\n",
        "\n",
        "                #print (new_record)\n",
        "                break\n",
        "\n",
        "        if make_it == True:\n",
        "            return [True, successful_record[::-1]]\n",
        "        else:\n",
        "            return [False, []]\n",
        "\n",
        "print (recurse(target_sum, [9, 13, 3, 3], []))"
      ],
      "execution_count": 27,
      "outputs": [
        {
          "output_type": "stream",
          "text": [
            "[False, []]\n"
          ],
          "name": "stdout"
        }
      ]
    },
    {
      "cell_type": "code",
      "metadata": {
        "id": "bip9H47BXST6",
        "colab_type": "code",
        "colab": {
          "base_uri": "https://localhost:8080/",
          "height": 78
        },
        "outputId": "209f5546-91ea-410c-aa42-59f7e0f2cc9b"
      },
      "source": [
        "#### some sanity check that needs two parenthesis, which the previous attempts failed\n",
        "\n",
        "print (tuple(sorted([9,13,3,3])) in set_4[target_sum])\n",
        "\n",
        "print (tuple(sorted([1,5,3,3])) in set_4[target_sum])\n",
        "\n",
        "print (tuple(sorted([5,5,5,1])) in set_4[target_sum])"
      ],
      "execution_count": 23,
      "outputs": [
        {
          "output_type": "stream",
          "text": [
            "True\n",
            "True\n",
            "True\n"
          ],
          "name": "stdout"
        }
      ]
    },
    {
      "cell_type": "code",
      "metadata": {
        "id": "jfyKP_SDXaH4",
        "colab_type": "code",
        "colab": {}
      },
      "source": [
        "from itertools import combinations_with_replacement\n",
        "\n",
        "total_possible_combi_with_replacement = len(list(combinations_with_replacement(range(1, max_card+1), 4)))"
      ],
      "execution_count": 0,
      "outputs": []
    },
    {
      "cell_type": "code",
      "metadata": {
        "id": "d3K9CJAKX2_j",
        "colab_type": "code",
        "colab": {
          "base_uri": "https://localhost:8080/",
          "height": 36
        },
        "outputId": "690f6c4d-e01a-42c4-df36-ef2cfd6563a9"
      },
      "source": [
        "print (f\"So this answer is: {100 * len(set_4[24]) / total_possible_combi_with_replacement}%\")"
      ],
      "execution_count": 11,
      "outputs": [
        {
          "output_type": "stream",
          "text": [
            "So this answer is: 81.31868131868131%\n"
          ],
          "name": "stdout"
        }
      ]
    },
    {
      "cell_type": "code",
      "metadata": {
        "id": "3RYy-Q7HYbdt",
        "colab_type": "code",
        "colab": {
          "base_uri": "https://localhost:8080/",
          "height": 36
        },
        "outputId": "b03b07d9-d385-4485-9add-e34e90c8aef2"
      },
      "source": [
        " total_possible_combi_with_replacement"
      ],
      "execution_count": 12,
      "outputs": [
        {
          "output_type": "execute_result",
          "data": {
            "text/plain": [
              "1820"
            ]
          },
          "metadata": {
            "tags": []
          },
          "execution_count": 12
        }
      ]
    },
    {
      "cell_type": "code",
      "metadata": {
        "id": "GJ3ONCoEbXUE",
        "colab_type": "code",
        "colab": {}
      },
      "source": [
        ""
      ],
      "execution_count": 0,
      "outputs": []
    }
  ]
}